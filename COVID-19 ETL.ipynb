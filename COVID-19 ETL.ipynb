{
 "cells": [
  {
   "cell_type": "code",
   "execution_count": 1,
   "metadata": {},
   "outputs": [],
   "source": [
    "import pandas as pd\n",
    "from sqlalchemy import create_engine"
   ]
  },
  {
   "cell_type": "markdown",
   "metadata": {},
   "source": [
    "# Extract CSVs into DataFrames"
   ]
  },
  {
   "cell_type": "code",
   "execution_count": 2,
   "metadata": {},
   "outputs": [
    {
     "output_type": "execute_result",
     "data": {
      "text/plain": "   UID iso2 iso3  code3  FIPS Admin2     Lat        Combined_Key  Population  \\\n0   16   AS  ASM     16  60.0    NaN -14.271  American Samoa, US       55641   \n1   16   AS  ASM     16  60.0    NaN -14.271  American Samoa, US       55641   \n2   16   AS  ASM     16  60.0    NaN -14.271  American Samoa, US       55641   \n3   16   AS  ASM     16  60.0    NaN -14.271  American Samoa, US       55641   \n4   16   AS  ASM     16  60.0    NaN -14.271  American Samoa, US       55641   \n\n         Date  Case     Long Country/Region  Province/State  \n0  2020-01-22     0 -170.132             US  American Samoa  \n1  2020-01-23     0 -170.132             US  American Samoa  \n2  2020-01-24     0 -170.132             US  American Samoa  \n3  2020-01-25     0 -170.132             US  American Samoa  \n4  2020-01-26     0 -170.132             US  American Samoa  ",
      "text/html": "<div>\n<style scoped>\n    .dataframe tbody tr th:only-of-type {\n        vertical-align: middle;\n    }\n\n    .dataframe tbody tr th {\n        vertical-align: top;\n    }\n\n    .dataframe thead th {\n        text-align: right;\n    }\n</style>\n<table border=\"1\" class=\"dataframe\">\n  <thead>\n    <tr style=\"text-align: right;\">\n      <th></th>\n      <th>UID</th>\n      <th>iso2</th>\n      <th>iso3</th>\n      <th>code3</th>\n      <th>FIPS</th>\n      <th>Admin2</th>\n      <th>Lat</th>\n      <th>Combined_Key</th>\n      <th>Population</th>\n      <th>Date</th>\n      <th>Case</th>\n      <th>Long</th>\n      <th>Country/Region</th>\n      <th>Province/State</th>\n    </tr>\n  </thead>\n  <tbody>\n    <tr>\n      <th>0</th>\n      <td>16</td>\n      <td>AS</td>\n      <td>ASM</td>\n      <td>16</td>\n      <td>60.0</td>\n      <td>NaN</td>\n      <td>-14.271</td>\n      <td>American Samoa, US</td>\n      <td>55641</td>\n      <td>2020-01-22</td>\n      <td>0</td>\n      <td>-170.132</td>\n      <td>US</td>\n      <td>American Samoa</td>\n    </tr>\n    <tr>\n      <th>1</th>\n      <td>16</td>\n      <td>AS</td>\n      <td>ASM</td>\n      <td>16</td>\n      <td>60.0</td>\n      <td>NaN</td>\n      <td>-14.271</td>\n      <td>American Samoa, US</td>\n      <td>55641</td>\n      <td>2020-01-23</td>\n      <td>0</td>\n      <td>-170.132</td>\n      <td>US</td>\n      <td>American Samoa</td>\n    </tr>\n    <tr>\n      <th>2</th>\n      <td>16</td>\n      <td>AS</td>\n      <td>ASM</td>\n      <td>16</td>\n      <td>60.0</td>\n      <td>NaN</td>\n      <td>-14.271</td>\n      <td>American Samoa, US</td>\n      <td>55641</td>\n      <td>2020-01-24</td>\n      <td>0</td>\n      <td>-170.132</td>\n      <td>US</td>\n      <td>American Samoa</td>\n    </tr>\n    <tr>\n      <th>3</th>\n      <td>16</td>\n      <td>AS</td>\n      <td>ASM</td>\n      <td>16</td>\n      <td>60.0</td>\n      <td>NaN</td>\n      <td>-14.271</td>\n      <td>American Samoa, US</td>\n      <td>55641</td>\n      <td>2020-01-25</td>\n      <td>0</td>\n      <td>-170.132</td>\n      <td>US</td>\n      <td>American Samoa</td>\n    </tr>\n    <tr>\n      <th>4</th>\n      <td>16</td>\n      <td>AS</td>\n      <td>ASM</td>\n      <td>16</td>\n      <td>60.0</td>\n      <td>NaN</td>\n      <td>-14.271</td>\n      <td>American Samoa, US</td>\n      <td>55641</td>\n      <td>2020-01-26</td>\n      <td>0</td>\n      <td>-170.132</td>\n      <td>US</td>\n      <td>American Samoa</td>\n    </tr>\n  </tbody>\n</table>\n</div>"
     },
     "metadata": {},
     "execution_count": 2
    }
   ],
   "source": [
    "# Original CSV without transformation \n",
    "us_deaths_file = \"Data/US_Deaths.csv\"\n",
    "us_deaths_df = pd.read_csv(us_deaths_file)\n",
    "us_deaths_df.head()"
   ]
  },
  {
   "cell_type": "code",
   "execution_count": 3,
   "metadata": {},
   "outputs": [
    {
     "output_type": "execute_result",
     "data": {
      "text/plain": "     State Filed week ended  Initial Claims Reflecting Week Ended  \\\n0  Alabama         1/4/2020            4578            12/28/2019   \n1  Alabama        1/11/2020            3629              1/4/2020   \n2  Alabama        1/18/2020            2483             1/11/2020   \n3  Alabama        1/25/2020            2129             1/18/2020   \n4  Alabama         2/1/2020            2170             1/25/2020   \n\n   Continued Claims  Covered Employment  Insured Unemployment Rate  \n0             18523             1923741                       0.96  \n1             21143             1923741                       1.10  \n2             17402             1923741                       0.90  \n3             18390             1923741                       0.96  \n4             17284             1923741                       0.90  ",
      "text/html": "<div>\n<style scoped>\n    .dataframe tbody tr th:only-of-type {\n        vertical-align: middle;\n    }\n\n    .dataframe tbody tr th {\n        vertical-align: top;\n    }\n\n    .dataframe thead th {\n        text-align: right;\n    }\n</style>\n<table border=\"1\" class=\"dataframe\">\n  <thead>\n    <tr style=\"text-align: right;\">\n      <th></th>\n      <th>State</th>\n      <th>Filed week ended</th>\n      <th>Initial Claims</th>\n      <th>Reflecting Week Ended</th>\n      <th>Continued Claims</th>\n      <th>Covered Employment</th>\n      <th>Insured Unemployment Rate</th>\n    </tr>\n  </thead>\n  <tbody>\n    <tr>\n      <th>0</th>\n      <td>Alabama</td>\n      <td>1/4/2020</td>\n      <td>4578</td>\n      <td>12/28/2019</td>\n      <td>18523</td>\n      <td>1923741</td>\n      <td>0.96</td>\n    </tr>\n    <tr>\n      <th>1</th>\n      <td>Alabama</td>\n      <td>1/11/2020</td>\n      <td>3629</td>\n      <td>1/4/2020</td>\n      <td>21143</td>\n      <td>1923741</td>\n      <td>1.10</td>\n    </tr>\n    <tr>\n      <th>2</th>\n      <td>Alabama</td>\n      <td>1/18/2020</td>\n      <td>2483</td>\n      <td>1/11/2020</td>\n      <td>17402</td>\n      <td>1923741</td>\n      <td>0.90</td>\n    </tr>\n    <tr>\n      <th>3</th>\n      <td>Alabama</td>\n      <td>1/25/2020</td>\n      <td>2129</td>\n      <td>1/18/2020</td>\n      <td>18390</td>\n      <td>1923741</td>\n      <td>0.96</td>\n    </tr>\n    <tr>\n      <th>4</th>\n      <td>Alabama</td>\n      <td>2/1/2020</td>\n      <td>2170</td>\n      <td>1/25/2020</td>\n      <td>17284</td>\n      <td>1923741</td>\n      <td>0.90</td>\n    </tr>\n  </tbody>\n</table>\n</div>"
     },
     "metadata": {},
     "execution_count": 3
    }
   ],
   "source": [
    "# Original CSV without transformation \n",
    "unemployment_file = \"Data/US_Unemployment.csv\"\n",
    "unemployment_df = pd.read_csv(unemployment_file, thousands=',')    # adding the \"thousands\" parameter recognizes the numbers correctly \n",
    "unemployment_df.head()"
   ]
  },
  {
   "cell_type": "markdown",
   "metadata": {},
   "source": [
    "# Transform us_deaths DataFrame"
   ]
  },
  {
   "cell_type": "code",
   "execution_count": 4,
   "metadata": {},
   "outputs": [
    {
     "output_type": "execute_result",
     "data": {
      "text/plain": "         State       Date  Death  Population\n0      Alabama 2020-01-25      0     4903185\n1      Alabama 2020-02-01      0     4903185\n2      Alabama 2020-02-08      0     4903185\n3      Alabama 2020-02-15      0     4903185\n4      Alabama 2020-02-22      0     4903185\n..         ...        ...    ...         ...\n95  California 2020-04-04    289    39512223\n96  California 2020-04-11    604    39512223\n97  California 2020-04-18   1140    39512223\n98  California 2020-04-25   1689    39512223\n99  California 2020-05-02   2180    39512223\n\n[100 rows x 4 columns]",
      "text/html": "<div>\n<style scoped>\n    .dataframe tbody tr th:only-of-type {\n        vertical-align: middle;\n    }\n\n    .dataframe tbody tr th {\n        vertical-align: top;\n    }\n\n    .dataframe thead th {\n        text-align: right;\n    }\n</style>\n<table border=\"1\" class=\"dataframe\">\n  <thead>\n    <tr style=\"text-align: right;\">\n      <th></th>\n      <th>State</th>\n      <th>Date</th>\n      <th>Death</th>\n      <th>Population</th>\n    </tr>\n  </thead>\n  <tbody>\n    <tr>\n      <th>0</th>\n      <td>Alabama</td>\n      <td>2020-01-25</td>\n      <td>0</td>\n      <td>4903185</td>\n    </tr>\n    <tr>\n      <th>1</th>\n      <td>Alabama</td>\n      <td>2020-02-01</td>\n      <td>0</td>\n      <td>4903185</td>\n    </tr>\n    <tr>\n      <th>2</th>\n      <td>Alabama</td>\n      <td>2020-02-08</td>\n      <td>0</td>\n      <td>4903185</td>\n    </tr>\n    <tr>\n      <th>3</th>\n      <td>Alabama</td>\n      <td>2020-02-15</td>\n      <td>0</td>\n      <td>4903185</td>\n    </tr>\n    <tr>\n      <th>4</th>\n      <td>Alabama</td>\n      <td>2020-02-22</td>\n      <td>0</td>\n      <td>4903185</td>\n    </tr>\n    <tr>\n      <th>...</th>\n      <td>...</td>\n      <td>...</td>\n      <td>...</td>\n      <td>...</td>\n    </tr>\n    <tr>\n      <th>95</th>\n      <td>California</td>\n      <td>2020-04-04</td>\n      <td>289</td>\n      <td>39512223</td>\n    </tr>\n    <tr>\n      <th>96</th>\n      <td>California</td>\n      <td>2020-04-11</td>\n      <td>604</td>\n      <td>39512223</td>\n    </tr>\n    <tr>\n      <th>97</th>\n      <td>California</td>\n      <td>2020-04-18</td>\n      <td>1140</td>\n      <td>39512223</td>\n    </tr>\n    <tr>\n      <th>98</th>\n      <td>California</td>\n      <td>2020-04-25</td>\n      <td>1689</td>\n      <td>39512223</td>\n    </tr>\n    <tr>\n      <th>99</th>\n      <td>California</td>\n      <td>2020-05-02</td>\n      <td>2180</td>\n      <td>39512223</td>\n    </tr>\n  </tbody>\n</table>\n<p>100 rows × 4 columns</p>\n</div>"
     },
     "metadata": {},
     "execution_count": 4
    }
   ],
   "source": [
    "#Reformat dates: from string to date\n",
    "us_deaths_df['Date'] = pd.to_datetime(us_deaths_df['Date'],infer_datetime_format=True)\n",
    "\n",
    "# Create a filtered dataframe from specific columns \n",
    "# us_deaths_cols = ['Province/State', 'Population', 'Date', 'Case']\n",
    "\n",
    "# Rename columns \n",
    "us_deaths_df = us_deaths_df.rename(columns={'Province/State':'State', \"Case\":\"Death\"})\n",
    "\n",
    "# Create a filtered dataframe from specific dates\n",
    "us_deaths_dates = pd.to_datetime(['1/25/20',\n",
    "                    '2/1/20',\n",
    "                    '2/8/20', \n",
    "                    '2/15/20', \n",
    "                    '2/22/20', \n",
    "                    '2/29/20', \n",
    "                    '3/7/20', \n",
    "                    '3/14/20', \n",
    "                    '3/21/20', \n",
    "                    '3/28/20', \n",
    "                    '4/4/20', \n",
    "                    '4/11/20',\n",
    "                    '4/18/20',\n",
    "                    '4/25/20',\n",
    "                    '5/2/20',\n",
    "                    '5/9/20',\n",
    "                    '5/16/20'])\n",
    "\n",
    "us_deaths_dates_df = us_deaths_df[us_deaths_df.Date.isin(us_deaths_dates)]\n",
    "\n",
    "# Sort the dataframe by State then Date\n",
    "us_deaths_dates_df.sort_values(['State', 'Date'], ascending=[True, True])\n",
    "\n",
    "# Create a filtered dataframe grouped by Province/State and Date\n",
    "us_deaths_transformed_df = us_deaths_dates_df.groupby(['State', 'Date']).agg({\"Death\": \"sum\", \"Population\": \"sum\"}).reset_index()\n",
    "us_deaths_transformed_df.head(100)"
   ]
  },
  {
   "cell_type": "markdown",
   "metadata": {},
   "source": [
    "# Transform unemployment DataFrame"
   ]
  },
  {
   "cell_type": "code",
   "execution_count": 5,
   "metadata": {},
   "outputs": [
    {
     "output_type": "execute_result",
     "data": {
      "text/plain": "           State Filed_Week_Ended  Initial_Claims Reflecting_Week_Ended  \\\n0        Alabama       2020-01-25            2129            2020-01-18   \n1        Alabama       2020-02-01            2170            2020-01-25   \n2        Alabama       2020-02-08            2176            2020-02-01   \n3        Alabama       2020-02-15            1981            2020-02-08   \n4        Alabama       2020-02-22            1735            2020-02-15   \n..           ...              ...             ...                   ...   \n98      Colorado       2020-04-25           38662            2020-04-18   \n99      Colorado       2020-05-02           28360            2020-04-25   \n100     Colorado       2020-05-09           22732            2020-05-02   \n101     Colorado       2020-05-16           18054            2020-05-09   \n102  Connecticut       2020-01-25            2949            2020-01-18   \n\n     Continued_Claims  Covered_Employment  Insured_Unemployment_Rate  \n0               18390             1923741                       0.96  \n1               17284             1923741                       0.90  \n2               16745             1923741                       0.87  \n3               16571             1923741                       0.86  \n4               16059             1923741                       0.83  \n..                ...                 ...                        ...  \n98             228713             2666358                       8.58  \n99             228683             2666358                       8.58  \n100            261951             2666358                       9.82  \n101            246507             2666358                       9.25  \n102             41760             1654391                       2.52  \n\n[103 rows x 7 columns]",
      "text/html": "<div>\n<style scoped>\n    .dataframe tbody tr th:only-of-type {\n        vertical-align: middle;\n    }\n\n    .dataframe tbody tr th {\n        vertical-align: top;\n    }\n\n    .dataframe thead th {\n        text-align: right;\n    }\n</style>\n<table border=\"1\" class=\"dataframe\">\n  <thead>\n    <tr style=\"text-align: right;\">\n      <th></th>\n      <th>State</th>\n      <th>Filed_Week_Ended</th>\n      <th>Initial_Claims</th>\n      <th>Reflecting_Week_Ended</th>\n      <th>Continued_Claims</th>\n      <th>Covered_Employment</th>\n      <th>Insured_Unemployment_Rate</th>\n    </tr>\n  </thead>\n  <tbody>\n    <tr>\n      <th>0</th>\n      <td>Alabama</td>\n      <td>2020-01-25</td>\n      <td>2129</td>\n      <td>2020-01-18</td>\n      <td>18390</td>\n      <td>1923741</td>\n      <td>0.96</td>\n    </tr>\n    <tr>\n      <th>1</th>\n      <td>Alabama</td>\n      <td>2020-02-01</td>\n      <td>2170</td>\n      <td>2020-01-25</td>\n      <td>17284</td>\n      <td>1923741</td>\n      <td>0.90</td>\n    </tr>\n    <tr>\n      <th>2</th>\n      <td>Alabama</td>\n      <td>2020-02-08</td>\n      <td>2176</td>\n      <td>2020-02-01</td>\n      <td>16745</td>\n      <td>1923741</td>\n      <td>0.87</td>\n    </tr>\n    <tr>\n      <th>3</th>\n      <td>Alabama</td>\n      <td>2020-02-15</td>\n      <td>1981</td>\n      <td>2020-02-08</td>\n      <td>16571</td>\n      <td>1923741</td>\n      <td>0.86</td>\n    </tr>\n    <tr>\n      <th>4</th>\n      <td>Alabama</td>\n      <td>2020-02-22</td>\n      <td>1735</td>\n      <td>2020-02-15</td>\n      <td>16059</td>\n      <td>1923741</td>\n      <td>0.83</td>\n    </tr>\n    <tr>\n      <th>...</th>\n      <td>...</td>\n      <td>...</td>\n      <td>...</td>\n      <td>...</td>\n      <td>...</td>\n      <td>...</td>\n      <td>...</td>\n    </tr>\n    <tr>\n      <th>98</th>\n      <td>Colorado</td>\n      <td>2020-04-25</td>\n      <td>38662</td>\n      <td>2020-04-18</td>\n      <td>228713</td>\n      <td>2666358</td>\n      <td>8.58</td>\n    </tr>\n    <tr>\n      <th>99</th>\n      <td>Colorado</td>\n      <td>2020-05-02</td>\n      <td>28360</td>\n      <td>2020-04-25</td>\n      <td>228683</td>\n      <td>2666358</td>\n      <td>8.58</td>\n    </tr>\n    <tr>\n      <th>100</th>\n      <td>Colorado</td>\n      <td>2020-05-09</td>\n      <td>22732</td>\n      <td>2020-05-02</td>\n      <td>261951</td>\n      <td>2666358</td>\n      <td>9.82</td>\n    </tr>\n    <tr>\n      <th>101</th>\n      <td>Colorado</td>\n      <td>2020-05-16</td>\n      <td>18054</td>\n      <td>2020-05-09</td>\n      <td>246507</td>\n      <td>2666358</td>\n      <td>9.25</td>\n    </tr>\n    <tr>\n      <th>102</th>\n      <td>Connecticut</td>\n      <td>2020-01-25</td>\n      <td>2949</td>\n      <td>2020-01-18</td>\n      <td>41760</td>\n      <td>1654391</td>\n      <td>2.52</td>\n    </tr>\n  </tbody>\n</table>\n<p>103 rows × 7 columns</p>\n</div>"
     },
     "metadata": {},
     "execution_count": 5
    }
   ],
   "source": [
    "# Rename the columns in the unemployment dataframe\n",
    "unemployment_df = unemployment_df.rename(columns={\"Filed week ended\": \"Filed_Week_Ended\",\n",
    "                                                \"Initial Claims\": \"Initial_Claims\",\n",
    "                                                \"Reflecting Week Ended\": \"Reflecting_Week_Ended\",\n",
    "                                                \"Continued Claims\": \"Continued_Claims\",\n",
    "                                                \"Covered Employment\": \"Covered_Employment\",\n",
    "                                                \"Insured Unemployment Rate\": \"Insured_Unemployment_Rate\"\n",
    "                                                })\n",
    "\n",
    "#Reformat dates: from string to date\n",
    "unemployment_df['Filed_Week_Ended']=pd.to_datetime(unemployment_df['Filed_Week_Ended'])\n",
    "unemployment_df['Reflecting_Week_Ended']=pd.to_datetime(unemployment_df['Reflecting_Week_Ended'])\n",
    "\n",
    "# Create a filtered dataframe from specific dates\n",
    "unemployment_dates = pd.to_datetime(['1/25/2020',\n",
    "                    '2/1/2020',\n",
    "                    '2/8/2020', \n",
    "                    '2/15/2020', \n",
    "                    '2/22/2020', \n",
    "                    '2/29/2020', \n",
    "                    '3/7/2020', \n",
    "                    '3/14/2020', \n",
    "                    '3/21/2020', \n",
    "                    '3/28/2020', \n",
    "                    '4/4/2020', \n",
    "                    '4/11/2020',\n",
    "                    '4/18/20',\n",
    "                    '4/25/20',\n",
    "                    '5/2/20',\n",
    "                    '5/9/20',\n",
    "                    '5/16/20'])\n",
    "\n",
    "unemployment_transformed_df = unemployment_df[unemployment_df.Filed_Week_Ended.isin(unemployment_dates)]\n",
    "\n",
    "# Convert the \"Filed_Week_Ended\" column and the \"Reflecting_Week_Ended\" column to Date\n",
    "# unemployment_transformed_df['Filed_Week_Ended']=pd.to_datetime(unemployment_transformed_df['Filed_Week_Ended'])\n",
    "# unemployment_transformed_df['Reflecting_Week_Ended']=pd.to_datetime(unemployment_transformed_df['Reflecting_Week_Ended'])\n",
    "\n",
    "# Sort the dataframe by State then Date\n",
    "unemployment_transformed_df = unemployment_transformed_df.sort_values(['State', 'Filed_Week_Ended'], ascending=[True, True]).reset_index(drop=True)\n",
    "\n",
    "unemployment_transformed_df.head(103)"
   ]
  },
  {
   "cell_type": "markdown",
   "metadata": {},
   "source": [
    "# Merge Dataframes"
   ]
  },
  {
   "cell_type": "code",
   "execution_count": null,
   "metadata": {},
   "outputs": [],
   "source": [
    "u_to_merge = unemployment_transformed_df.copy()\n",
    "u_to_merge['unemployment_ID'] = unemployment_transformed_df.index\n",
    "d_to_merge = us_deaths_transformed_df.copy()\n",
    "d_to_merge['us_death_ID'] = us_deaths_transformed_df.index\n",
    "merge_df = pd.merge(u_to_merge, d_to_merge, how='left', left_on=['State', 'Filed_Week_Ended'], right_on=['State', 'Date'])\n",
    "merge_df"
   ]
  },
  {
   "cell_type": "markdown",
   "metadata": {},
   "source": [
    "# Create database connection"
   ]
  },
  {
   "cell_type": "code",
   "execution_count": null,
   "metadata": {},
   "outputs": [],
   "source": [
    "# creating database connection in postgres \n",
    "\n",
    "# from config import password\n",
    "\n",
    "# user = \"postgres\"\n",
    "# host = \"localhost\"\n",
    "# port = \"5432\"\n",
    "# db = \"COVID-19_db\"\n",
    "# uri = f\"postgresql://{user}:{password}@{host}:{port}/{db}\"\n",
    "# engine = create_engine(uri)"
   ]
  },
  {
   "cell_type": "code",
   "execution_count": null,
   "metadata": {},
   "outputs": [],
   "source": [
    "# pip install MySQLdb"
   ]
  },
  {
   "cell_type": "code",
   "execution_count": null,
   "metadata": {},
   "outputs": [],
   "source": [
    "# pip install mysqlclient"
   ]
  },
  {
   "cell_type": "code",
   "execution_count": null,
   "metadata": {},
   "outputs": [],
   "source": [
    "# creating database connection in MySQL\n",
    "from config import password\n",
    "\n",
    "user = \"root\"\n",
    "host = \"127.0.0.1\"\n",
    "port = \"3306\"\n",
    "db = \"covid-19_db\"\n",
    "uri = f\"mysql://{user}:{password}@{host}:{port}/{db}\"\n",
    "engine = create_engine(uri)"
   ]
  },
  {
   "cell_type": "markdown",
   "metadata": {},
   "source": [
    "# Load DataFrames into database"
   ]
  },
  {
   "cell_type": "code",
   "execution_count": null,
   "metadata": {},
   "outputs": [],
   "source": [
    "unemployment_transformed_df.to_sql(name='unemployment', con=engine, if_exists='append', index=True)"
   ]
  },
  {
   "cell_type": "code",
   "execution_count": null,
   "metadata": {},
   "outputs": [],
   "source": [
    "us_deaths_transformed_df.to_sql(name='us_death', con=engine, if_exists='append', index=True)"
   ]
  },
  {
   "cell_type": "code",
   "execution_count": null,
   "metadata": {},
   "outputs": [],
   "source": [
    "merge_df.to_sql(name='merge', con=engine, if_exists='append', index=True)"
   ]
  },
  {
   "cell_type": "code",
   "execution_count": null,
   "metadata": {},
   "outputs": [],
   "source": [
    "us_deaths_df.to_sql(name='US_Death_Orig', con=engine, if_exists='append', index=True)"
   ]
  },
  {
   "cell_type": "code",
   "execution_count": null,
   "metadata": {},
   "outputs": [],
   "source": [
    "unemployment_df.to_sql(name='Unemployment_Orig', con=engine, if_exists='append', index=True)"
   ]
  }
 ],
 "metadata": {
  "kernelspec": {
   "display_name": "Python 3.6.10 64-bit ('PythonData': conda)",
   "language": "python",
   "name": "python361064bitpythondatacondae72e71fce951462e96bb7e29d71e212c"
  }
 },
 "nbformat": 4,
 "nbformat_minor": 2
}