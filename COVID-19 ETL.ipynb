{
 "cells": [
  {
   "cell_type": "code",
   "execution_count": 1,
   "metadata": {},
   "outputs": [],
   "source": [
    "import pandas as pd\n",
    "from sqlalchemy import create_engine"
   ]
  },
  {
   "cell_type": "markdown",
   "metadata": {},
   "source": [
    "# Extract CSVs into DataFrames"
   ]
  },
  {
   "cell_type": "code",
   "execution_count": 2,
   "metadata": {},
   "outputs": [
    {
     "output_type": "execute_result",
     "data": {
      "text/plain": "   UID iso2 iso3  code3  FIPS Admin2     Lat        Combined_Key  Population  \\\n0   16   AS  ASM     16  60.0    NaN -14.271  American Samoa, US       55641   \n1   16   AS  ASM     16  60.0    NaN -14.271  American Samoa, US       55641   \n2   16   AS  ASM     16  60.0    NaN -14.271  American Samoa, US       55641   \n3   16   AS  ASM     16  60.0    NaN -14.271  American Samoa, US       55641   \n4   16   AS  ASM     16  60.0    NaN -14.271  American Samoa, US       55641   \n\n         Date  Case     Long Country/Region  Province/State  \n0  2020-01-22     0 -170.132             US  American Samoa  \n1  2020-01-23     0 -170.132             US  American Samoa  \n2  2020-01-24     0 -170.132             US  American Samoa  \n3  2020-01-25     0 -170.132             US  American Samoa  \n4  2020-01-26     0 -170.132             US  American Samoa  ",
      "text/html": "<div>\n<style scoped>\n    .dataframe tbody tr th:only-of-type {\n        vertical-align: middle;\n    }\n\n    .dataframe tbody tr th {\n        vertical-align: top;\n    }\n\n    .dataframe thead th {\n        text-align: right;\n    }\n</style>\n<table border=\"1\" class=\"dataframe\">\n  <thead>\n    <tr style=\"text-align: right;\">\n      <th></th>\n      <th>UID</th>\n      <th>iso2</th>\n      <th>iso3</th>\n      <th>code3</th>\n      <th>FIPS</th>\n      <th>Admin2</th>\n      <th>Lat</th>\n      <th>Combined_Key</th>\n      <th>Population</th>\n      <th>Date</th>\n      <th>Case</th>\n      <th>Long</th>\n      <th>Country/Region</th>\n      <th>Province/State</th>\n    </tr>\n  </thead>\n  <tbody>\n    <tr>\n      <th>0</th>\n      <td>16</td>\n      <td>AS</td>\n      <td>ASM</td>\n      <td>16</td>\n      <td>60.0</td>\n      <td>NaN</td>\n      <td>-14.271</td>\n      <td>American Samoa, US</td>\n      <td>55641</td>\n      <td>2020-01-22</td>\n      <td>0</td>\n      <td>-170.132</td>\n      <td>US</td>\n      <td>American Samoa</td>\n    </tr>\n    <tr>\n      <th>1</th>\n      <td>16</td>\n      <td>AS</td>\n      <td>ASM</td>\n      <td>16</td>\n      <td>60.0</td>\n      <td>NaN</td>\n      <td>-14.271</td>\n      <td>American Samoa, US</td>\n      <td>55641</td>\n      <td>2020-01-23</td>\n      <td>0</td>\n      <td>-170.132</td>\n      <td>US</td>\n      <td>American Samoa</td>\n    </tr>\n    <tr>\n      <th>2</th>\n      <td>16</td>\n      <td>AS</td>\n      <td>ASM</td>\n      <td>16</td>\n      <td>60.0</td>\n      <td>NaN</td>\n      <td>-14.271</td>\n      <td>American Samoa, US</td>\n      <td>55641</td>\n      <td>2020-01-24</td>\n      <td>0</td>\n      <td>-170.132</td>\n      <td>US</td>\n      <td>American Samoa</td>\n    </tr>\n    <tr>\n      <th>3</th>\n      <td>16</td>\n      <td>AS</td>\n      <td>ASM</td>\n      <td>16</td>\n      <td>60.0</td>\n      <td>NaN</td>\n      <td>-14.271</td>\n      <td>American Samoa, US</td>\n      <td>55641</td>\n      <td>2020-01-25</td>\n      <td>0</td>\n      <td>-170.132</td>\n      <td>US</td>\n      <td>American Samoa</td>\n    </tr>\n    <tr>\n      <th>4</th>\n      <td>16</td>\n      <td>AS</td>\n      <td>ASM</td>\n      <td>16</td>\n      <td>60.0</td>\n      <td>NaN</td>\n      <td>-14.271</td>\n      <td>American Samoa, US</td>\n      <td>55641</td>\n      <td>2020-01-26</td>\n      <td>0</td>\n      <td>-170.132</td>\n      <td>US</td>\n      <td>American Samoa</td>\n    </tr>\n  </tbody>\n</table>\n</div>"
     },
     "metadata": {},
     "execution_count": 2
    }
   ],
   "source": [
    "# Original CSV without transformation \n",
    "us_deaths_file = \"us_deaths_csv.csv\"\n",
    "us_deaths_df = pd.read_csv(us_deaths_file)\n",
    "us_deaths_df.head()"
   ]
  },
  {
   "cell_type": "code",
   "execution_count": 3,
   "metadata": {},
   "outputs": [
    {
     "output_type": "execute_result",
     "data": {
      "text/plain": "     State Filed week ended  Initial Claims Reflecting Week Ended  \\\n0  Alabama         1/4/2020            4578            12/28/2019   \n1  Alabama        1/11/2020            3629              1/4/2020   \n2  Alabama        1/18/2020            2483             1/11/2020   \n3  Alabama        1/25/2020            2129             1/18/2020   \n4  Alabama         2/1/2020            2170             1/25/2020   \n\n   Continued Claims  Covered Employment  Insured Unemployment Rate  \n0             18523             1923741                       0.96  \n1             21143             1923741                       1.10  \n2             17402             1923741                       0.90  \n3             18390             1923741                       0.96  \n4             17284             1923741                       0.90  ",
      "text/html": "<div>\n<style scoped>\n    .dataframe tbody tr th:only-of-type {\n        vertical-align: middle;\n    }\n\n    .dataframe tbody tr th {\n        vertical-align: top;\n    }\n\n    .dataframe thead th {\n        text-align: right;\n    }\n</style>\n<table border=\"1\" class=\"dataframe\">\n  <thead>\n    <tr style=\"text-align: right;\">\n      <th></th>\n      <th>State</th>\n      <th>Filed week ended</th>\n      <th>Initial Claims</th>\n      <th>Reflecting Week Ended</th>\n      <th>Continued Claims</th>\n      <th>Covered Employment</th>\n      <th>Insured Unemployment Rate</th>\n    </tr>\n  </thead>\n  <tbody>\n    <tr>\n      <th>0</th>\n      <td>Alabama</td>\n      <td>1/4/2020</td>\n      <td>4578</td>\n      <td>12/28/2019</td>\n      <td>18523</td>\n      <td>1923741</td>\n      <td>0.96</td>\n    </tr>\n    <tr>\n      <th>1</th>\n      <td>Alabama</td>\n      <td>1/11/2020</td>\n      <td>3629</td>\n      <td>1/4/2020</td>\n      <td>21143</td>\n      <td>1923741</td>\n      <td>1.10</td>\n    </tr>\n    <tr>\n      <th>2</th>\n      <td>Alabama</td>\n      <td>1/18/2020</td>\n      <td>2483</td>\n      <td>1/11/2020</td>\n      <td>17402</td>\n      <td>1923741</td>\n      <td>0.90</td>\n    </tr>\n    <tr>\n      <th>3</th>\n      <td>Alabama</td>\n      <td>1/25/2020</td>\n      <td>2129</td>\n      <td>1/18/2020</td>\n      <td>18390</td>\n      <td>1923741</td>\n      <td>0.96</td>\n    </tr>\n    <tr>\n      <th>4</th>\n      <td>Alabama</td>\n      <td>2/1/2020</td>\n      <td>2170</td>\n      <td>1/25/2020</td>\n      <td>17284</td>\n      <td>1923741</td>\n      <td>0.90</td>\n    </tr>\n  </tbody>\n</table>\n</div>"
     },
     "metadata": {},
     "execution_count": 3
    }
   ],
   "source": [
    "# Original CSV without transformation \n",
    "unemployment_file = \"unemployment_insurance_weekly_claims.csv\"\n",
    "unemployment_df = pd.read_csv(unemployment_file, thousands=',')    # adding the \"thousands\" parameter recognizes the numbers correctly \n",
    "unemployment_df.head()"
   ]
  },
  {
   "cell_type": "markdown",
   "metadata": {},
   "source": [
    "# Transform us_deaths DataFrame"
   ]
  },
  {
   "cell_type": "code",
   "execution_count": 4,
   "metadata": {},
   "outputs": [
    {
     "output_type": "execute_result",
     "data": {
      "text/plain": "          State       Date  Death  Population\n0       Alabama 2020-01-25      0     4903185\n1       Alabama 2020-02-01      0     4903185\n2       Alabama 2020-02-08      0     4903185\n3       Alabama 2020-02-15      0     4903185\n4       Alabama 2020-02-22      0     4903185\n..          ...        ...    ...         ...\n95  Connecticut 2020-04-11    494     3565287\n96     Delaware 2020-01-25      0      973764\n97     Delaware 2020-02-01      0      973764\n98     Delaware 2020-02-08      0      973764\n99     Delaware 2020-02-15      0      973764\n\n[100 rows x 4 columns]",
      "text/html": "<div>\n<style scoped>\n    .dataframe tbody tr th:only-of-type {\n        vertical-align: middle;\n    }\n\n    .dataframe tbody tr th {\n        vertical-align: top;\n    }\n\n    .dataframe thead th {\n        text-align: right;\n    }\n</style>\n<table border=\"1\" class=\"dataframe\">\n  <thead>\n    <tr style=\"text-align: right;\">\n      <th></th>\n      <th>State</th>\n      <th>Date</th>\n      <th>Death</th>\n      <th>Population</th>\n    </tr>\n  </thead>\n  <tbody>\n    <tr>\n      <th>0</th>\n      <td>Alabama</td>\n      <td>2020-01-25</td>\n      <td>0</td>\n      <td>4903185</td>\n    </tr>\n    <tr>\n      <th>1</th>\n      <td>Alabama</td>\n      <td>2020-02-01</td>\n      <td>0</td>\n      <td>4903185</td>\n    </tr>\n    <tr>\n      <th>2</th>\n      <td>Alabama</td>\n      <td>2020-02-08</td>\n      <td>0</td>\n      <td>4903185</td>\n    </tr>\n    <tr>\n      <th>3</th>\n      <td>Alabama</td>\n      <td>2020-02-15</td>\n      <td>0</td>\n      <td>4903185</td>\n    </tr>\n    <tr>\n      <th>4</th>\n      <td>Alabama</td>\n      <td>2020-02-22</td>\n      <td>0</td>\n      <td>4903185</td>\n    </tr>\n    <tr>\n      <th>...</th>\n      <td>...</td>\n      <td>...</td>\n      <td>...</td>\n      <td>...</td>\n    </tr>\n    <tr>\n      <th>95</th>\n      <td>Connecticut</td>\n      <td>2020-04-11</td>\n      <td>494</td>\n      <td>3565287</td>\n    </tr>\n    <tr>\n      <th>96</th>\n      <td>Delaware</td>\n      <td>2020-01-25</td>\n      <td>0</td>\n      <td>973764</td>\n    </tr>\n    <tr>\n      <th>97</th>\n      <td>Delaware</td>\n      <td>2020-02-01</td>\n      <td>0</td>\n      <td>973764</td>\n    </tr>\n    <tr>\n      <th>98</th>\n      <td>Delaware</td>\n      <td>2020-02-08</td>\n      <td>0</td>\n      <td>973764</td>\n    </tr>\n    <tr>\n      <th>99</th>\n      <td>Delaware</td>\n      <td>2020-02-15</td>\n      <td>0</td>\n      <td>973764</td>\n    </tr>\n  </tbody>\n</table>\n<p>100 rows × 4 columns</p>\n</div>"
     },
     "metadata": {},
     "execution_count": 4
    }
   ],
   "source": [
    "#Reformat dates: from string to date\n",
    "us_deaths_df['Date'] = pd.to_datetime(us_deaths_df['Date'],infer_datetime_format=True)\n",
    "\n",
    "# Create a filtered dataframe from specific columns \n",
    "us_deaths_cols = ['Province/State', 'Population', 'Date', 'Case']\n",
    "\n",
    "# Rename columns \n",
    "us_deaths_col_df = us_deaths_df[us_deaths_cols].copy()\n",
    "us_deaths_col_df = us_deaths_col_df.rename(columns={'Province/State':'State', \"Case\":\"Death\"})\n",
    "\n",
    "# Create a filtered dataframe from specific dates\n",
    "us_deaths_dates = pd.to_datetime(['1/25/20',\n",
    "                    '2/1/20',\n",
    "                    '2/8/20', \n",
    "                    '2/15/20', \n",
    "                    '2/22/20', \n",
    "                    '2/29/20', \n",
    "                    '3/7/20', \n",
    "                    '3/14/20', \n",
    "                    '3/21/20', \n",
    "                    '3/28/20', \n",
    "                    '4/4/20', \n",
    "                    '4/11/20'])\n",
    "us_deaths_dates_df = us_deaths_col_df[us_deaths_col_df.Date.isin(us_deaths_dates)]\n",
    "\n",
    "# Sort the dataframe by State then Date\n",
    "us_deaths_dates_df.sort_values(['State', 'Date'], ascending=[True, True])\n",
    "\n",
    "# Create a filtered dataframe grouped by Province/State and Date\n",
    "us_deaths_transformed_df = us_deaths_dates_df.groupby(['State', 'Date']).agg({\"Death\": \"sum\", \"Population\": \"sum\"}).reset_index()\n",
    "us_deaths_transformed_df.head(100)"
   ]
  },
  {
   "cell_type": "markdown",
   "metadata": {},
   "source": [
    "# Transform unemployment DataFrame"
   ]
  },
  {
   "cell_type": "code",
   "execution_count": 5,
   "metadata": {},
   "outputs": [
    {
     "output_type": "execute_result",
     "data": {
      "text/plain": "                   State Filed_Week_Ended  Initial_Claims  \\\n0                Alabama       2020-01-25            2129   \n1                Alabama       2020-02-01            2170   \n2                Alabama       2020-02-08            2176   \n3                Alabama       2020-02-15            1981   \n4                Alabama       2020-02-22            1735   \n..                   ...              ...             ...   \n95              Delaware       2020-04-11           13258   \n96  District of Columbia       2020-01-25             534   \n97  District of Columbia       2020-02-01             539   \n98  District of Columbia       2020-02-08             508   \n99  District of Columbia       2020-02-15             473   \n\n   Reflecting_Week_Ended  Continued_Claims  Covered_Employment  \\\n0             2020-01-18             18390             1923741   \n1             2020-01-25             17284             1923741   \n2             2020-02-01             16745             1923741   \n3             2020-02-08             16571             1923741   \n4             2020-02-15             16059             1923741   \n..                   ...               ...                 ...   \n95            2020-04-04             29577              445741   \n96            2020-01-18              7149              578035   \n97            2020-01-25              7139              578035   \n98            2020-02-01              7156              578035   \n99            2020-02-08              7079              578035   \n\n    Insured_Unemployment_Rate  \n0                        0.96  \n1                        0.90  \n2                        0.87  \n3                        0.86  \n4                        0.83  \n..                        ...  \n95                       6.64  \n96                       1.24  \n97                       1.24  \n98                       1.24  \n99                       1.22  \n\n[100 rows x 7 columns]",
      "text/html": "<div>\n<style scoped>\n    .dataframe tbody tr th:only-of-type {\n        vertical-align: middle;\n    }\n\n    .dataframe tbody tr th {\n        vertical-align: top;\n    }\n\n    .dataframe thead th {\n        text-align: right;\n    }\n</style>\n<table border=\"1\" class=\"dataframe\">\n  <thead>\n    <tr style=\"text-align: right;\">\n      <th></th>\n      <th>State</th>\n      <th>Filed_Week_Ended</th>\n      <th>Initial_Claims</th>\n      <th>Reflecting_Week_Ended</th>\n      <th>Continued_Claims</th>\n      <th>Covered_Employment</th>\n      <th>Insured_Unemployment_Rate</th>\n    </tr>\n  </thead>\n  <tbody>\n    <tr>\n      <th>0</th>\n      <td>Alabama</td>\n      <td>2020-01-25</td>\n      <td>2129</td>\n      <td>2020-01-18</td>\n      <td>18390</td>\n      <td>1923741</td>\n      <td>0.96</td>\n    </tr>\n    <tr>\n      <th>1</th>\n      <td>Alabama</td>\n      <td>2020-02-01</td>\n      <td>2170</td>\n      <td>2020-01-25</td>\n      <td>17284</td>\n      <td>1923741</td>\n      <td>0.90</td>\n    </tr>\n    <tr>\n      <th>2</th>\n      <td>Alabama</td>\n      <td>2020-02-08</td>\n      <td>2176</td>\n      <td>2020-02-01</td>\n      <td>16745</td>\n      <td>1923741</td>\n      <td>0.87</td>\n    </tr>\n    <tr>\n      <th>3</th>\n      <td>Alabama</td>\n      <td>2020-02-15</td>\n      <td>1981</td>\n      <td>2020-02-08</td>\n      <td>16571</td>\n      <td>1923741</td>\n      <td>0.86</td>\n    </tr>\n    <tr>\n      <th>4</th>\n      <td>Alabama</td>\n      <td>2020-02-22</td>\n      <td>1735</td>\n      <td>2020-02-15</td>\n      <td>16059</td>\n      <td>1923741</td>\n      <td>0.83</td>\n    </tr>\n    <tr>\n      <th>...</th>\n      <td>...</td>\n      <td>...</td>\n      <td>...</td>\n      <td>...</td>\n      <td>...</td>\n      <td>...</td>\n      <td>...</td>\n    </tr>\n    <tr>\n      <th>95</th>\n      <td>Delaware</td>\n      <td>2020-04-11</td>\n      <td>13258</td>\n      <td>2020-04-04</td>\n      <td>29577</td>\n      <td>445741</td>\n      <td>6.64</td>\n    </tr>\n    <tr>\n      <th>96</th>\n      <td>District of Columbia</td>\n      <td>2020-01-25</td>\n      <td>534</td>\n      <td>2020-01-18</td>\n      <td>7149</td>\n      <td>578035</td>\n      <td>1.24</td>\n    </tr>\n    <tr>\n      <th>97</th>\n      <td>District of Columbia</td>\n      <td>2020-02-01</td>\n      <td>539</td>\n      <td>2020-01-25</td>\n      <td>7139</td>\n      <td>578035</td>\n      <td>1.24</td>\n    </tr>\n    <tr>\n      <th>98</th>\n      <td>District of Columbia</td>\n      <td>2020-02-08</td>\n      <td>508</td>\n      <td>2020-02-01</td>\n      <td>7156</td>\n      <td>578035</td>\n      <td>1.24</td>\n    </tr>\n    <tr>\n      <th>99</th>\n      <td>District of Columbia</td>\n      <td>2020-02-15</td>\n      <td>473</td>\n      <td>2020-02-08</td>\n      <td>7079</td>\n      <td>578035</td>\n      <td>1.22</td>\n    </tr>\n  </tbody>\n</table>\n<p>100 rows × 7 columns</p>\n</div>"
     },
     "metadata": {},
     "execution_count": 5
    }
   ],
   "source": [
    "# Rename the columns in the unemployment dataframe\n",
    "unemployment_df = unemployment_df.rename(columns={\"Filed week ended\": \"Filed_Week_Ended\",\n",
    "                                                \"Initial Claims\": \"Initial_Claims\",\n",
    "                                                \"Reflecting Week Ended\": \"Reflecting_Week_Ended\",\n",
    "                                                \"Continued Claims\": \"Continued_Claims\",\n",
    "                                                \"Covered Employment\": \"Covered_Employment\",\n",
    "                                                \"Insured Unemployment Rate\": \"Insured_Unemployment_Rate\"\n",
    "                                                })\n",
    "\n",
    "#Reformat dates: from string to date\n",
    "unemployment_df['Filed_Week_Ended']=pd.to_datetime(unemployment_df['Filed_Week_Ended'])\n",
    "unemployment_df['Reflecting_Week_Ended']=pd.to_datetime(unemployment_df['Reflecting_Week_Ended'])\n",
    "\n",
    "# Create a filtered dataframe from specific dates\n",
    "unemployment_dates = pd.to_datetime(['1/25/2020',\n",
    "                    '2/1/2020',\n",
    "                    '2/8/2020', \n",
    "                    '2/15/2020', \n",
    "                    '2/22/2020', \n",
    "                    '2/29/2020', \n",
    "                    '3/7/2020', \n",
    "                    '3/14/2020', \n",
    "                    '3/21/2020', \n",
    "                    '3/28/2020', \n",
    "                    '4/4/2020', \n",
    "                    '4/11/2020'])\n",
    "unemployment_transformed_df = unemployment_df[unemployment_df.Filed_Week_Ended.isin(unemployment_dates)]\n",
    "\n",
    "# Convert the \"Filed_Week_Ended\" column and the \"Reflecting_Week_Ended\" column to Date\n",
    "# unemployment_transformed_df['Filed_Week_Ended']=pd.to_datetime(unemployment_transformed_df['Filed_Week_Ended'])\n",
    "# unemployment_transformed_df['Reflecting_Week_Ended']=pd.to_datetime(unemployment_transformed_df['Reflecting_Week_Ended'])\n",
    "\n",
    "# Sort the dataframe by State then Date\n",
    "unemployment_transformed_df = unemployment_transformed_df.sort_values(['State', 'Filed_Week_Ended'], ascending=[True, True]).reset_index(drop=True)\n",
    "\n",
    "unemployment_transformed_df.head(100)"
   ]
  },
  {
   "cell_type": "markdown",
   "metadata": {},
   "source": [
    "# Merge Dataframes"
   ]
  },
  {
   "cell_type": "code",
   "execution_count": 6,
   "metadata": {},
   "outputs": [
    {
     "output_type": "execute_result",
     "data": {
      "text/plain": "       State Filed_Week_Ended  Initial_Claims Reflecting_Week_Ended  \\\n0    Alabama       2020-01-25            2129            2020-01-18   \n1    Alabama       2020-02-01            2170            2020-01-25   \n2    Alabama       2020-02-08            2176            2020-02-01   \n3    Alabama       2020-02-15            1981            2020-02-08   \n4    Alabama       2020-02-22            1735            2020-02-15   \n..       ...              ...             ...                   ...   \n631  Wyoming       2020-03-14             517            2020-03-07   \n632  Wyoming       2020-03-21            3653            2020-03-14   \n633  Wyoming       2020-03-28            6396            2020-03-21   \n634  Wyoming       2020-04-04            6543            2020-03-28   \n635  Wyoming       2020-04-11            5794            2020-04-04   \n\n     Continued_Claims  Covered_Employment  Insured_Unemployment_Rate  \\\n0               18390             1923741                       0.96   \n1               17284             1923741                       0.90   \n2               16745             1923741                       0.87   \n3               16571             1923741                       0.86   \n4               16059             1923741                       0.83   \n..                ...                 ...                        ...   \n631              3375              268518                       1.26   \n632              3197              268518                       1.19   \n633              4519              268518                       1.68   \n634              7790              268518                       2.90   \n635             11212              270013                       4.15   \n\n     unemployment_ID       Date  Death  Population  us_death_ID  \n0                  0 2020-01-25      0     4903185            0  \n1                  1 2020-02-01      0     4903185            1  \n2                  2 2020-02-08      0     4903185            2  \n3                  3 2020-02-15      0     4903185            3  \n4                  4 2020-02-22      0     4903185            4  \n..               ...        ...    ...         ...          ...  \n631              631 2020-03-14      0      578759          691  \n632              632 2020-03-21      0      578759          692  \n633              633 2020-03-28      0      578759          693  \n634              634 2020-04-04      0      578759          694  \n635              635 2020-04-11      0      578759          695  \n\n[636 rows x 12 columns]",
      "text/html": "<div>\n<style scoped>\n    .dataframe tbody tr th:only-of-type {\n        vertical-align: middle;\n    }\n\n    .dataframe tbody tr th {\n        vertical-align: top;\n    }\n\n    .dataframe thead th {\n        text-align: right;\n    }\n</style>\n<table border=\"1\" class=\"dataframe\">\n  <thead>\n    <tr style=\"text-align: right;\">\n      <th></th>\n      <th>State</th>\n      <th>Filed_Week_Ended</th>\n      <th>Initial_Claims</th>\n      <th>Reflecting_Week_Ended</th>\n      <th>Continued_Claims</th>\n      <th>Covered_Employment</th>\n      <th>Insured_Unemployment_Rate</th>\n      <th>unemployment_ID</th>\n      <th>Date</th>\n      <th>Death</th>\n      <th>Population</th>\n      <th>us_death_ID</th>\n    </tr>\n  </thead>\n  <tbody>\n    <tr>\n      <th>0</th>\n      <td>Alabama</td>\n      <td>2020-01-25</td>\n      <td>2129</td>\n      <td>2020-01-18</td>\n      <td>18390</td>\n      <td>1923741</td>\n      <td>0.96</td>\n      <td>0</td>\n      <td>2020-01-25</td>\n      <td>0</td>\n      <td>4903185</td>\n      <td>0</td>\n    </tr>\n    <tr>\n      <th>1</th>\n      <td>Alabama</td>\n      <td>2020-02-01</td>\n      <td>2170</td>\n      <td>2020-01-25</td>\n      <td>17284</td>\n      <td>1923741</td>\n      <td>0.90</td>\n      <td>1</td>\n      <td>2020-02-01</td>\n      <td>0</td>\n      <td>4903185</td>\n      <td>1</td>\n    </tr>\n    <tr>\n      <th>2</th>\n      <td>Alabama</td>\n      <td>2020-02-08</td>\n      <td>2176</td>\n      <td>2020-02-01</td>\n      <td>16745</td>\n      <td>1923741</td>\n      <td>0.87</td>\n      <td>2</td>\n      <td>2020-02-08</td>\n      <td>0</td>\n      <td>4903185</td>\n      <td>2</td>\n    </tr>\n    <tr>\n      <th>3</th>\n      <td>Alabama</td>\n      <td>2020-02-15</td>\n      <td>1981</td>\n      <td>2020-02-08</td>\n      <td>16571</td>\n      <td>1923741</td>\n      <td>0.86</td>\n      <td>3</td>\n      <td>2020-02-15</td>\n      <td>0</td>\n      <td>4903185</td>\n      <td>3</td>\n    </tr>\n    <tr>\n      <th>4</th>\n      <td>Alabama</td>\n      <td>2020-02-22</td>\n      <td>1735</td>\n      <td>2020-02-15</td>\n      <td>16059</td>\n      <td>1923741</td>\n      <td>0.83</td>\n      <td>4</td>\n      <td>2020-02-22</td>\n      <td>0</td>\n      <td>4903185</td>\n      <td>4</td>\n    </tr>\n    <tr>\n      <th>...</th>\n      <td>...</td>\n      <td>...</td>\n      <td>...</td>\n      <td>...</td>\n      <td>...</td>\n      <td>...</td>\n      <td>...</td>\n      <td>...</td>\n      <td>...</td>\n      <td>...</td>\n      <td>...</td>\n      <td>...</td>\n    </tr>\n    <tr>\n      <th>631</th>\n      <td>Wyoming</td>\n      <td>2020-03-14</td>\n      <td>517</td>\n      <td>2020-03-07</td>\n      <td>3375</td>\n      <td>268518</td>\n      <td>1.26</td>\n      <td>631</td>\n      <td>2020-03-14</td>\n      <td>0</td>\n      <td>578759</td>\n      <td>691</td>\n    </tr>\n    <tr>\n      <th>632</th>\n      <td>Wyoming</td>\n      <td>2020-03-21</td>\n      <td>3653</td>\n      <td>2020-03-14</td>\n      <td>3197</td>\n      <td>268518</td>\n      <td>1.19</td>\n      <td>632</td>\n      <td>2020-03-21</td>\n      <td>0</td>\n      <td>578759</td>\n      <td>692</td>\n    </tr>\n    <tr>\n      <th>633</th>\n      <td>Wyoming</td>\n      <td>2020-03-28</td>\n      <td>6396</td>\n      <td>2020-03-21</td>\n      <td>4519</td>\n      <td>268518</td>\n      <td>1.68</td>\n      <td>633</td>\n      <td>2020-03-28</td>\n      <td>0</td>\n      <td>578759</td>\n      <td>693</td>\n    </tr>\n    <tr>\n      <th>634</th>\n      <td>Wyoming</td>\n      <td>2020-04-04</td>\n      <td>6543</td>\n      <td>2020-03-28</td>\n      <td>7790</td>\n      <td>268518</td>\n      <td>2.90</td>\n      <td>634</td>\n      <td>2020-04-04</td>\n      <td>0</td>\n      <td>578759</td>\n      <td>694</td>\n    </tr>\n    <tr>\n      <th>635</th>\n      <td>Wyoming</td>\n      <td>2020-04-11</td>\n      <td>5794</td>\n      <td>2020-04-04</td>\n      <td>11212</td>\n      <td>270013</td>\n      <td>4.15</td>\n      <td>635</td>\n      <td>2020-04-11</td>\n      <td>0</td>\n      <td>578759</td>\n      <td>695</td>\n    </tr>\n  </tbody>\n</table>\n<p>636 rows × 12 columns</p>\n</div>"
     },
     "metadata": {},
     "execution_count": 6
    }
   ],
   "source": [
    "u_to_merge = unemployment_transformed_df.copy()\n",
    "u_to_merge['unemployment_ID'] = unemployment_transformed_df.index\n",
    "d_to_merge = us_deaths_transformed_df.copy()\n",
    "d_to_merge['us_death_ID'] = us_deaths_transformed_df.index\n",
    "merge_df = pd.merge(u_to_merge, d_to_merge, how='left', left_on=['State', 'Filed_Week_Ended'], right_on=['State', 'Date'])\n",
    "merge_df"
   ]
  },
  {
   "cell_type": "markdown",
   "metadata": {},
   "source": [
    "# Create database connection"
   ]
  },
  {
   "cell_type": "code",
   "execution_count": null,
   "metadata": {},
   "outputs": [],
   "source": [
    "from config import password\n",
    "\n",
    "user = \"postgres\"\n",
    "host = \"localhost\"\n",
    "port = \"5432\"\n",
    "db = \"COVID-19_db\"\n",
    "uri = f\"postgresql://{user}:{password}@{host}:{port}/{db}\"\n",
    "engine = create_engine(uri)"
   ]
  },
  {
   "cell_type": "markdown",
   "metadata": {},
   "source": [
    "# Load DataFrames into database"
   ]
  },
  {
   "cell_type": "code",
   "execution_count": null,
   "metadata": {},
   "outputs": [],
   "source": [
    "unemployment_transformed_df.to_sql(name='unemployment', con=engine, if_exists='append', index=True)"
   ]
  },
  {
   "cell_type": "code",
   "execution_count": null,
   "metadata": {},
   "outputs": [],
   "source": [
    "us_deaths_transformed_df.to_sql(name='us_death', con=engine, if_exists='append', index=True)"
   ]
  },
  {
   "cell_type": "code",
   "execution_count": null,
   "metadata": {},
   "outputs": [],
   "source": [
    "merge_df.to_sql(name='merge', con=engine, if_exists='append', index=True)"
   ]
  }
 ],
 "metadata": {
  "kernelspec": {
   "display_name": "Python 3.6.10 64-bit ('PythonData': conda)",
   "language": "python",
   "name": "python361064bitpythondatacondae72e71fce951462e96bb7e29d71e212c"
  }
 },
 "nbformat": 4,
 "nbformat_minor": 2
}